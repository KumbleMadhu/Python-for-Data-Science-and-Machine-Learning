{
 "cells": [
  {
   "cell_type": "code",
   "execution_count": 1,
   "metadata": {},
   "outputs": [],
   "source": [
    "import pandas as pd\n",
    "import numpy as np"
   ]
  },
  {
   "cell_type": "code",
   "execution_count": 2,
   "metadata": {},
   "outputs": [],
   "source": [
    "df = pd.read_csv('../DATA/cancer_classification.csv')"
   ]
  },
  {
   "cell_type": "code",
   "execution_count": 4,
   "metadata": {
    "scrolled": true
   },
   "outputs": [
    {
     "data": {
      "text/html": [
       "<div>\n",
       "<style scoped>\n",
       "    .dataframe tbody tr th:only-of-type {\n",
       "        vertical-align: middle;\n",
       "    }\n",
       "\n",
       "    .dataframe tbody tr th {\n",
       "        vertical-align: top;\n",
       "    }\n",
       "\n",
       "    .dataframe thead th {\n",
       "        text-align: right;\n",
       "    }\n",
       "</style>\n",
       "<table border=\"1\" class=\"dataframe\">\n",
       "  <thead>\n",
       "    <tr style=\"text-align: right;\">\n",
       "      <th></th>\n",
       "      <th>mean radius</th>\n",
       "      <th>mean texture</th>\n",
       "      <th>mean perimeter</th>\n",
       "      <th>mean area</th>\n",
       "      <th>mean smoothness</th>\n",
       "      <th>mean compactness</th>\n",
       "      <th>mean concavity</th>\n",
       "      <th>mean concave points</th>\n",
       "      <th>mean symmetry</th>\n",
       "      <th>mean fractal dimension</th>\n",
       "      <th>...</th>\n",
       "      <th>worst texture</th>\n",
       "      <th>worst perimeter</th>\n",
       "      <th>worst area</th>\n",
       "      <th>worst smoothness</th>\n",
       "      <th>worst compactness</th>\n",
       "      <th>worst concavity</th>\n",
       "      <th>worst concave points</th>\n",
       "      <th>worst symmetry</th>\n",
       "      <th>worst fractal dimension</th>\n",
       "      <th>benign_0__mal_1</th>\n",
       "    </tr>\n",
       "  </thead>\n",
       "  <tbody>\n",
       "    <tr>\n",
       "      <th>0</th>\n",
       "      <td>17.99</td>\n",
       "      <td>10.38</td>\n",
       "      <td>122.80</td>\n",
       "      <td>1001.0</td>\n",
       "      <td>0.11840</td>\n",
       "      <td>0.27760</td>\n",
       "      <td>0.3001</td>\n",
       "      <td>0.14710</td>\n",
       "      <td>0.2419</td>\n",
       "      <td>0.07871</td>\n",
       "      <td>...</td>\n",
       "      <td>17.33</td>\n",
       "      <td>184.60</td>\n",
       "      <td>2019.0</td>\n",
       "      <td>0.1622</td>\n",
       "      <td>0.6656</td>\n",
       "      <td>0.7119</td>\n",
       "      <td>0.2654</td>\n",
       "      <td>0.4601</td>\n",
       "      <td>0.11890</td>\n",
       "      <td>0</td>\n",
       "    </tr>\n",
       "    <tr>\n",
       "      <th>1</th>\n",
       "      <td>20.57</td>\n",
       "      <td>17.77</td>\n",
       "      <td>132.90</td>\n",
       "      <td>1326.0</td>\n",
       "      <td>0.08474</td>\n",
       "      <td>0.07864</td>\n",
       "      <td>0.0869</td>\n",
       "      <td>0.07017</td>\n",
       "      <td>0.1812</td>\n",
       "      <td>0.05667</td>\n",
       "      <td>...</td>\n",
       "      <td>23.41</td>\n",
       "      <td>158.80</td>\n",
       "      <td>1956.0</td>\n",
       "      <td>0.1238</td>\n",
       "      <td>0.1866</td>\n",
       "      <td>0.2416</td>\n",
       "      <td>0.1860</td>\n",
       "      <td>0.2750</td>\n",
       "      <td>0.08902</td>\n",
       "      <td>0</td>\n",
       "    </tr>\n",
       "    <tr>\n",
       "      <th>2</th>\n",
       "      <td>19.69</td>\n",
       "      <td>21.25</td>\n",
       "      <td>130.00</td>\n",
       "      <td>1203.0</td>\n",
       "      <td>0.10960</td>\n",
       "      <td>0.15990</td>\n",
       "      <td>0.1974</td>\n",
       "      <td>0.12790</td>\n",
       "      <td>0.2069</td>\n",
       "      <td>0.05999</td>\n",
       "      <td>...</td>\n",
       "      <td>25.53</td>\n",
       "      <td>152.50</td>\n",
       "      <td>1709.0</td>\n",
       "      <td>0.1444</td>\n",
       "      <td>0.4245</td>\n",
       "      <td>0.4504</td>\n",
       "      <td>0.2430</td>\n",
       "      <td>0.3613</td>\n",
       "      <td>0.08758</td>\n",
       "      <td>0</td>\n",
       "    </tr>\n",
       "    <tr>\n",
       "      <th>3</th>\n",
       "      <td>11.42</td>\n",
       "      <td>20.38</td>\n",
       "      <td>77.58</td>\n",
       "      <td>386.1</td>\n",
       "      <td>0.14250</td>\n",
       "      <td>0.28390</td>\n",
       "      <td>0.2414</td>\n",
       "      <td>0.10520</td>\n",
       "      <td>0.2597</td>\n",
       "      <td>0.09744</td>\n",
       "      <td>...</td>\n",
       "      <td>26.50</td>\n",
       "      <td>98.87</td>\n",
       "      <td>567.7</td>\n",
       "      <td>0.2098</td>\n",
       "      <td>0.8663</td>\n",
       "      <td>0.6869</td>\n",
       "      <td>0.2575</td>\n",
       "      <td>0.6638</td>\n",
       "      <td>0.17300</td>\n",
       "      <td>0</td>\n",
       "    </tr>\n",
       "    <tr>\n",
       "      <th>4</th>\n",
       "      <td>20.29</td>\n",
       "      <td>14.34</td>\n",
       "      <td>135.10</td>\n",
       "      <td>1297.0</td>\n",
       "      <td>0.10030</td>\n",
       "      <td>0.13280</td>\n",
       "      <td>0.1980</td>\n",
       "      <td>0.10430</td>\n",
       "      <td>0.1809</td>\n",
       "      <td>0.05883</td>\n",
       "      <td>...</td>\n",
       "      <td>16.67</td>\n",
       "      <td>152.20</td>\n",
       "      <td>1575.0</td>\n",
       "      <td>0.1374</td>\n",
       "      <td>0.2050</td>\n",
       "      <td>0.4000</td>\n",
       "      <td>0.1625</td>\n",
       "      <td>0.2364</td>\n",
       "      <td>0.07678</td>\n",
       "      <td>0</td>\n",
       "    </tr>\n",
       "  </tbody>\n",
       "</table>\n",
       "<p>5 rows × 31 columns</p>\n",
       "</div>"
      ],
      "text/plain": [
       "   mean radius  mean texture  mean perimeter  mean area  mean smoothness  \\\n",
       "0        17.99         10.38          122.80     1001.0          0.11840   \n",
       "1        20.57         17.77          132.90     1326.0          0.08474   \n",
       "2        19.69         21.25          130.00     1203.0          0.10960   \n",
       "3        11.42         20.38           77.58      386.1          0.14250   \n",
       "4        20.29         14.34          135.10     1297.0          0.10030   \n",
       "\n",
       "   mean compactness  mean concavity  mean concave points  mean symmetry  \\\n",
       "0           0.27760          0.3001              0.14710         0.2419   \n",
       "1           0.07864          0.0869              0.07017         0.1812   \n",
       "2           0.15990          0.1974              0.12790         0.2069   \n",
       "3           0.28390          0.2414              0.10520         0.2597   \n",
       "4           0.13280          0.1980              0.10430         0.1809   \n",
       "\n",
       "   mean fractal dimension  ...  worst texture  worst perimeter  worst area  \\\n",
       "0                 0.07871  ...          17.33           184.60      2019.0   \n",
       "1                 0.05667  ...          23.41           158.80      1956.0   \n",
       "2                 0.05999  ...          25.53           152.50      1709.0   \n",
       "3                 0.09744  ...          26.50            98.87       567.7   \n",
       "4                 0.05883  ...          16.67           152.20      1575.0   \n",
       "\n",
       "   worst smoothness  worst compactness  worst concavity  worst concave points  \\\n",
       "0            0.1622             0.6656           0.7119                0.2654   \n",
       "1            0.1238             0.1866           0.2416                0.1860   \n",
       "2            0.1444             0.4245           0.4504                0.2430   \n",
       "3            0.2098             0.8663           0.6869                0.2575   \n",
       "4            0.1374             0.2050           0.4000                0.1625   \n",
       "\n",
       "   worst symmetry  worst fractal dimension  benign_0__mal_1  \n",
       "0          0.4601                  0.11890                0  \n",
       "1          0.2750                  0.08902                0  \n",
       "2          0.3613                  0.08758                0  \n",
       "3          0.6638                  0.17300                0  \n",
       "4          0.2364                  0.07678                0  \n",
       "\n",
       "[5 rows x 31 columns]"
      ]
     },
     "execution_count": 4,
     "metadata": {},
     "output_type": "execute_result"
    }
   ],
   "source": [
    "df.head()"
   ]
  },
  {
   "cell_type": "markdown",
   "metadata": {},
   "source": [
    "**Train-test split**"
   ]
  },
  {
   "cell_type": "code",
   "execution_count": 7,
   "metadata": {},
   "outputs": [],
   "source": [
    "from sklearn.model_selection import train_test_split"
   ]
  },
  {
   "cell_type": "code",
   "execution_count": 8,
   "metadata": {},
   "outputs": [],
   "source": [
    "X = df.drop('benign_0__mal_1',axis=1).values\n",
    "y = df['benign_0__mal_1'].values\n",
    "\n",
    "X_train, X_test, y_train, y_test = train_test_split(X,y,test_size=0.25,random_state=101)"
   ]
  },
  {
   "cell_type": "markdown",
   "metadata": {},
   "source": [
    "**Scaling**"
   ]
  },
  {
   "cell_type": "code",
   "execution_count": 9,
   "metadata": {},
   "outputs": [],
   "source": [
    "from sklearn.preprocessing import MinMaxScaler"
   ]
  },
  {
   "cell_type": "code",
   "execution_count": 10,
   "metadata": {},
   "outputs": [],
   "source": [
    "scaler = MinMaxScaler()"
   ]
  },
  {
   "cell_type": "code",
   "execution_count": 11,
   "metadata": {},
   "outputs": [
    {
     "data": {
      "text/plain": [
       "MinMaxScaler(copy=True, feature_range=(0, 1))"
      ]
     },
     "execution_count": 11,
     "metadata": {},
     "output_type": "execute_result"
    }
   ],
   "source": [
    "scaler.fit(X_train)"
   ]
  },
  {
   "cell_type": "code",
   "execution_count": 12,
   "metadata": {},
   "outputs": [],
   "source": [
    "X_train = scaler.transform(X_train)\n",
    "X_test = scaler.transform(X_test)"
   ]
  },
  {
   "cell_type": "markdown",
   "metadata": {},
   "source": [
    "**Model**"
   ]
  },
  {
   "cell_type": "code",
   "execution_count": 13,
   "metadata": {},
   "outputs": [],
   "source": [
    "import tensorflow as tf\n",
    "from tensorflow.keras.models import Sequential\n",
    "from tensorflow.keras.layers import Dense, Activation,Dropout"
   ]
  },
  {
   "cell_type": "code",
   "execution_count": 14,
   "metadata": {},
   "outputs": [],
   "source": [
    "from tensorflow.keras.callbacks import EarlyStopping,TensorBoard"
   ]
  },
  {
   "cell_type": "code",
   "execution_count": 15,
   "metadata": {},
   "outputs": [],
   "source": [
    "early_stop = EarlyStopping(monitor='val_loss', mode='min', verbose=1, patience=25)"
   ]
  },
  {
   "cell_type": "code",
   "execution_count": 16,
   "metadata": {},
   "outputs": [
    {
     "data": {
      "text/plain": [
       "'/home/madhu/Downloads/Udemy/Udemy DS & ML/TF/TensorFlow_FILES/ANNs'"
      ]
     },
     "execution_count": 16,
     "metadata": {},
     "output_type": "execute_result"
    }
   ],
   "source": [
    "pwd"
   ]
  },
  {
   "cell_type": "code",
   "execution_count": 17,
   "metadata": {},
   "outputs": [],
   "source": [
    "from datetime import datetime"
   ]
  },
  {
   "cell_type": "code",
   "execution_count": 18,
   "metadata": {},
   "outputs": [
    {
     "data": {
      "text/plain": [
       "'2020-06-14--0158'"
      ]
     },
     "execution_count": 18,
     "metadata": {},
     "output_type": "execute_result"
    }
   ],
   "source": [
    "datetime.now().strftime(\"%Y-%m-%d--%H%M\")"
   ]
  },
  {
   "cell_type": "code",
   "execution_count": 19,
   "metadata": {},
   "outputs": [],
   "source": [
    "log_directory = 'logs\\fit'"
   ]
  },
  {
   "cell_type": "code",
   "execution_count": 22,
   "metadata": {},
   "outputs": [],
   "source": [
    "board = TensorBoard(\n",
    "    log_dir = log_directory,\n",
    "    histogram_freq = 1,\n",
    "    write_graph = True,\n",
    "    write_images = True,\n",
    "    update_freq = 'epoch',\n",
    "    profile_batch = 2,\n",
    "    embeddings_freq = 1)"
   ]
  },
  {
   "cell_type": "code",
   "execution_count": 24,
   "metadata": {},
   "outputs": [],
   "source": [
    "model = Sequential()\n",
    "\n",
    "model.add(Dense(30, activation = 'relu'))\n",
    "model.add(Dropout(0.5))\n",
    "\n",
    "model.add(Dense(15, activation = 'relu'))\n",
    "model.add(Dropout(0.5))\n",
    "\n",
    "model.add(Dense(1, activation = 'sigmoid'))\n",
    "model.compile(loss = 'binary_crossentropy', optimizer = 'adam')"
   ]
  },
  {
   "cell_type": "code",
   "execution_count": 25,
   "metadata": {},
   "outputs": [
    {
     "name": "stdout",
     "output_type": "stream",
     "text": [
      "Epoch 1/600\n",
      "14/14 [==============================] - 1s 39ms/step - loss: 0.7068 - val_loss: 0.6803\n",
      "Epoch 2/600\n",
      "14/14 [==============================] - 0s 7ms/step - loss: 0.6975 - val_loss: 0.6589\n",
      "Epoch 3/600\n",
      "14/14 [==============================] - 0s 6ms/step - loss: 0.6519 - val_loss: 0.6296\n",
      "Epoch 4/600\n",
      "14/14 [==============================] - 0s 6ms/step - loss: 0.6096 - val_loss: 0.5991\n",
      "Epoch 5/600\n",
      "14/14 [==============================] - 0s 6ms/step - loss: 0.6224 - val_loss: 0.5683\n",
      "Epoch 6/600\n",
      "14/14 [==============================] - 0s 6ms/step - loss: 0.5723 - val_loss: 0.5388\n",
      "Epoch 7/600\n",
      "14/14 [==============================] - 0s 6ms/step - loss: 0.5629 - val_loss: 0.5084\n",
      "Epoch 8/600\n",
      "14/14 [==============================] - 0s 6ms/step - loss: 0.5430 - val_loss: 0.4782\n",
      "Epoch 9/600\n",
      "14/14 [==============================] - 0s 6ms/step - loss: 0.5217 - val_loss: 0.4501\n",
      "Epoch 10/600\n",
      "14/14 [==============================] - 0s 6ms/step - loss: 0.5107 - val_loss: 0.4209\n",
      "Epoch 11/600\n",
      "14/14 [==============================] - 0s 6ms/step - loss: 0.4675 - val_loss: 0.3876\n",
      "Epoch 12/600\n",
      "14/14 [==============================] - 0s 6ms/step - loss: 0.4442 - val_loss: 0.3586\n",
      "Epoch 13/600\n",
      "14/14 [==============================] - 0s 7ms/step - loss: 0.4092 - val_loss: 0.3274\n",
      "Epoch 14/600\n",
      "14/14 [==============================] - 0s 7ms/step - loss: 0.4274 - val_loss: 0.3079\n",
      "Epoch 15/600\n",
      "14/14 [==============================] - 0s 7ms/step - loss: 0.3997 - val_loss: 0.2915\n",
      "Epoch 16/600\n",
      "14/14 [==============================] - 0s 8ms/step - loss: 0.3823 - val_loss: 0.2725\n",
      "Epoch 17/600\n",
      "14/14 [==============================] - 0s 7ms/step - loss: 0.3589 - val_loss: 0.2556\n",
      "Epoch 18/600\n",
      "14/14 [==============================] - 0s 8ms/step - loss: 0.3421 - val_loss: 0.2413\n",
      "Epoch 19/600\n",
      "14/14 [==============================] - 0s 7ms/step - loss: 0.3236 - val_loss: 0.2246\n",
      "Epoch 20/600\n",
      "14/14 [==============================] - 0s 6ms/step - loss: 0.3362 - val_loss: 0.2319\n",
      "Epoch 21/600\n",
      "14/14 [==============================] - 0s 6ms/step - loss: 0.3226 - val_loss: 0.2066\n",
      "Epoch 22/600\n",
      "14/14 [==============================] - 0s 6ms/step - loss: 0.2967 - val_loss: 0.1990\n",
      "Epoch 23/600\n",
      "14/14 [==============================] - 0s 6ms/step - loss: 0.2954 - val_loss: 0.2008\n",
      "Epoch 24/600\n",
      "14/14 [==============================] - 0s 6ms/step - loss: 0.2714 - val_loss: 0.1925\n",
      "Epoch 25/600\n",
      "14/14 [==============================] - 0s 6ms/step - loss: 0.2742 - val_loss: 0.1773\n",
      "Epoch 26/600\n",
      "14/14 [==============================] - 0s 6ms/step - loss: 0.2609 - val_loss: 0.1726\n",
      "Epoch 27/600\n",
      "14/14 [==============================] - 0s 6ms/step - loss: 0.2456 - val_loss: 0.1718\n",
      "Epoch 28/600\n",
      "14/14 [==============================] - 0s 6ms/step - loss: 0.2572 - val_loss: 0.1622\n",
      "Epoch 29/600\n",
      "14/14 [==============================] - 0s 6ms/step - loss: 0.2513 - val_loss: 0.1553\n",
      "Epoch 30/600\n",
      "14/14 [==============================] - 0s 6ms/step - loss: 0.2549 - val_loss: 0.1587\n",
      "Epoch 31/600\n",
      "14/14 [==============================] - 0s 6ms/step - loss: 0.2272 - val_loss: 0.1494\n",
      "Epoch 32/600\n",
      "14/14 [==============================] - 0s 6ms/step - loss: 0.2397 - val_loss: 0.1476\n",
      "Epoch 33/600\n",
      "14/14 [==============================] - 0s 6ms/step - loss: 0.2346 - val_loss: 0.1495\n",
      "Epoch 34/600\n",
      "14/14 [==============================] - 0s 5ms/step - loss: 0.2177 - val_loss: 0.1454\n",
      "Epoch 35/600\n",
      "14/14 [==============================] - 0s 6ms/step - loss: 0.2436 - val_loss: 0.1370\n",
      "Epoch 36/600\n",
      "14/14 [==============================] - 0s 6ms/step - loss: 0.2233 - val_loss: 0.1355\n",
      "Epoch 37/600\n",
      "14/14 [==============================] - 0s 6ms/step - loss: 0.2192 - val_loss: 0.1378\n",
      "Epoch 38/600\n",
      "14/14 [==============================] - 0s 6ms/step - loss: 0.2301 - val_loss: 0.1336\n",
      "Epoch 39/600\n",
      "14/14 [==============================] - 0s 6ms/step - loss: 0.1988 - val_loss: 0.1292\n",
      "Epoch 40/600\n",
      "14/14 [==============================] - 0s 6ms/step - loss: 0.2132 - val_loss: 0.1259\n",
      "Epoch 41/600\n",
      "14/14 [==============================] - 0s 6ms/step - loss: 0.2003 - val_loss: 0.1312\n",
      "Epoch 42/600\n",
      "14/14 [==============================] - 0s 6ms/step - loss: 0.1868 - val_loss: 0.1244\n",
      "Epoch 43/600\n",
      "14/14 [==============================] - 0s 6ms/step - loss: 0.1860 - val_loss: 0.1148\n",
      "Epoch 44/600\n",
      "14/14 [==============================] - 0s 8ms/step - loss: 0.1913 - val_loss: 0.1202\n",
      "Epoch 45/600\n",
      "14/14 [==============================] - 0s 8ms/step - loss: 0.1942 - val_loss: 0.1293\n",
      "Epoch 46/600\n",
      "14/14 [==============================] - 0s 6ms/step - loss: 0.1951 - val_loss: 0.1166\n",
      "Epoch 47/600\n",
      "14/14 [==============================] - 0s 6ms/step - loss: 0.1861 - val_loss: 0.1179\n",
      "Epoch 48/600\n",
      "14/14 [==============================] - 0s 6ms/step - loss: 0.1770 - val_loss: 0.1191\n",
      "Epoch 49/600\n",
      "14/14 [==============================] - 0s 6ms/step - loss: 0.1984 - val_loss: 0.1115\n",
      "Epoch 50/600\n",
      "14/14 [==============================] - 0s 6ms/step - loss: 0.1746 - val_loss: 0.1092\n",
      "Epoch 51/600\n",
      "14/14 [==============================] - 0s 7ms/step - loss: 0.1768 - val_loss: 0.1121\n",
      "Epoch 52/600\n",
      "14/14 [==============================] - 0s 6ms/step - loss: 0.1457 - val_loss: 0.1139\n",
      "Epoch 53/600\n",
      "14/14 [==============================] - 0s 6ms/step - loss: 0.1764 - val_loss: 0.1063\n",
      "Epoch 54/600\n",
      "14/14 [==============================] - 0s 6ms/step - loss: 0.1758 - val_loss: 0.1078\n",
      "Epoch 55/600\n",
      "14/14 [==============================] - 0s 9ms/step - loss: 0.1735 - val_loss: 0.1107\n",
      "Epoch 56/600\n",
      "14/14 [==============================] - 0s 7ms/step - loss: 0.1614 - val_loss: 0.1236\n",
      "Epoch 57/600\n",
      "14/14 [==============================] - 0s 6ms/step - loss: 0.1624 - val_loss: 0.1007\n",
      "Epoch 58/600\n",
      "14/14 [==============================] - 0s 6ms/step - loss: 0.1696 - val_loss: 0.0984\n",
      "Epoch 59/600\n",
      "14/14 [==============================] - 0s 6ms/step - loss: 0.1643 - val_loss: 0.1037\n",
      "Epoch 60/600\n",
      "14/14 [==============================] - 0s 8ms/step - loss: 0.1630 - val_loss: 0.0997\n",
      "Epoch 61/600\n",
      "14/14 [==============================] - 0s 6ms/step - loss: 0.1378 - val_loss: 0.1045\n",
      "Epoch 62/600\n",
      "14/14 [==============================] - 0s 5ms/step - loss: 0.1423 - val_loss: 0.0976\n",
      "Epoch 63/600\n",
      "14/14 [==============================] - 0s 6ms/step - loss: 0.1550 - val_loss: 0.0988\n",
      "Epoch 64/600\n",
      "14/14 [==============================] - 0s 5ms/step - loss: 0.1403 - val_loss: 0.0973\n",
      "Epoch 65/600\n",
      "14/14 [==============================] - 0s 6ms/step - loss: 0.1513 - val_loss: 0.0985\n",
      "Epoch 66/600\n",
      "14/14 [==============================] - 0s 6ms/step - loss: 0.1461 - val_loss: 0.1072\n",
      "Epoch 67/600\n",
      "14/14 [==============================] - 0s 6ms/step - loss: 0.1466 - val_loss: 0.0959\n",
      "Epoch 68/600\n",
      "14/14 [==============================] - 0s 6ms/step - loss: 0.1324 - val_loss: 0.0998\n",
      "Epoch 69/600\n",
      "14/14 [==============================] - 0s 6ms/step - loss: 0.1497 - val_loss: 0.0949\n",
      "Epoch 70/600\n",
      "14/14 [==============================] - 0s 5ms/step - loss: 0.1401 - val_loss: 0.0958\n",
      "Epoch 71/600\n",
      "14/14 [==============================] - 0s 6ms/step - loss: 0.1182 - val_loss: 0.0968\n",
      "Epoch 72/600\n",
      "14/14 [==============================] - 0s 6ms/step - loss: 0.1431 - val_loss: 0.1036\n",
      "Epoch 73/600\n",
      "14/14 [==============================] - 0s 6ms/step - loss: 0.1373 - val_loss: 0.0963\n",
      "Epoch 74/600\n",
      "14/14 [==============================] - 0s 6ms/step - loss: 0.1394 - val_loss: 0.1050\n",
      "Epoch 75/600\n",
      "14/14 [==============================] - 0s 6ms/step - loss: 0.1389 - val_loss: 0.0968\n",
      "Epoch 76/600\n",
      "14/14 [==============================] - 0s 9ms/step - loss: 0.1221 - val_loss: 0.0937\n",
      "Epoch 77/600\n",
      "14/14 [==============================] - 0s 9ms/step - loss: 0.1350 - val_loss: 0.0993\n",
      "Epoch 78/600\n",
      "14/14 [==============================] - 0s 6ms/step - loss: 0.1469 - val_loss: 0.1144\n",
      "Epoch 79/600\n",
      "14/14 [==============================] - 0s 5ms/step - loss: 0.1209 - val_loss: 0.1091\n",
      "Epoch 80/600\n",
      "14/14 [==============================] - 0s 7ms/step - loss: 0.1270 - val_loss: 0.0996\n",
      "Epoch 81/600\n",
      "14/14 [==============================] - 0s 10ms/step - loss: 0.1273 - val_loss: 0.1123\n",
      "Epoch 82/600\n",
      "14/14 [==============================] - 0s 6ms/step - loss: 0.1106 - val_loss: 0.0993\n",
      "Epoch 83/600\n",
      "14/14 [==============================] - 0s 5ms/step - loss: 0.1152 - val_loss: 0.0979\n",
      "Epoch 84/600\n",
      "14/14 [==============================] - 0s 5ms/step - loss: 0.1132 - val_loss: 0.0957\n",
      "Epoch 85/600\n",
      "14/14 [==============================] - 0s 6ms/step - loss: 0.1002 - val_loss: 0.1046\n",
      "Epoch 86/600\n",
      "14/14 [==============================] - 0s 6ms/step - loss: 0.1290 - val_loss: 0.1074\n",
      "Epoch 87/600\n",
      "14/14 [==============================] - 0s 6ms/step - loss: 0.1223 - val_loss: 0.1019\n",
      "Epoch 88/600\n",
      "14/14 [==============================] - 0s 6ms/step - loss: 0.1023 - val_loss: 0.0947\n",
      "Epoch 89/600\n",
      "14/14 [==============================] - 0s 5ms/step - loss: 0.1393 - val_loss: 0.0942\n",
      "Epoch 90/600\n",
      "14/14 [==============================] - 0s 6ms/step - loss: 0.1215 - val_loss: 0.1025\n",
      "Epoch 91/600\n",
      "14/14 [==============================] - 0s 5ms/step - loss: 0.1067 - val_loss: 0.0924\n",
      "Epoch 92/600\n",
      "14/14 [==============================] - 0s 6ms/step - loss: 0.1269 - val_loss: 0.0947\n",
      "Epoch 93/600\n",
      "14/14 [==============================] - 0s 5ms/step - loss: 0.1185 - val_loss: 0.1019\n",
      "Epoch 94/600\n",
      "14/14 [==============================] - 0s 6ms/step - loss: 0.1059 - val_loss: 0.0983\n",
      "Epoch 95/600\n",
      "14/14 [==============================] - 0s 6ms/step - loss: 0.1106 - val_loss: 0.0905\n",
      "Epoch 96/600\n",
      "14/14 [==============================] - 0s 6ms/step - loss: 0.0907 - val_loss: 0.0991\n",
      "Epoch 97/600\n",
      "14/14 [==============================] - 0s 9ms/step - loss: 0.1014 - val_loss: 0.0906\n",
      "Epoch 98/600\n",
      "14/14 [==============================] - 0s 8ms/step - loss: 0.0992 - val_loss: 0.0973\n",
      "Epoch 99/600\n",
      "14/14 [==============================] - 0s 9ms/step - loss: 0.0938 - val_loss: 0.1133\n",
      "Epoch 100/600\n",
      "14/14 [==============================] - 0s 6ms/step - loss: 0.1024 - val_loss: 0.1003\n",
      "Epoch 101/600\n",
      "14/14 [==============================] - 0s 6ms/step - loss: 0.1155 - val_loss: 0.1018\n",
      "Epoch 102/600\n",
      "14/14 [==============================] - 0s 6ms/step - loss: 0.0975 - val_loss: 0.0976\n",
      "Epoch 103/600\n",
      "14/14 [==============================] - 0s 6ms/step - loss: 0.1202 - val_loss: 0.0896\n",
      "Epoch 104/600\n",
      "14/14 [==============================] - 0s 6ms/step - loss: 0.1263 - val_loss: 0.0941\n",
      "Epoch 105/600\n",
      "14/14 [==============================] - 0s 9ms/step - loss: 0.1038 - val_loss: 0.0919\n",
      "Epoch 106/600\n",
      "14/14 [==============================] - 0s 6ms/step - loss: 0.1113 - val_loss: 0.0936\n",
      "Epoch 107/600\n",
      "14/14 [==============================] - 0s 7ms/step - loss: 0.1385 - val_loss: 0.0929\n",
      "Epoch 108/600\n",
      "14/14 [==============================] - 0s 6ms/step - loss: 0.0977 - val_loss: 0.1067\n",
      "Epoch 109/600\n",
      "14/14 [==============================] - 0s 5ms/step - loss: 0.0909 - val_loss: 0.0908\n",
      "Epoch 110/600\n",
      "14/14 [==============================] - 0s 6ms/step - loss: 0.1002 - val_loss: 0.0948\n",
      "Epoch 111/600\n",
      "14/14 [==============================] - 0s 8ms/step - loss: 0.1018 - val_loss: 0.0955\n",
      "Epoch 112/600\n",
      "14/14 [==============================] - 0s 6ms/step - loss: 0.0981 - val_loss: 0.1019\n",
      "Epoch 113/600\n",
      "14/14 [==============================] - 0s 5ms/step - loss: 0.1032 - val_loss: 0.0961\n",
      "Epoch 114/600\n",
      "14/14 [==============================] - 0s 6ms/step - loss: 0.0896 - val_loss: 0.1002\n",
      "Epoch 115/600\n",
      "14/14 [==============================] - 0s 6ms/step - loss: 0.0804 - val_loss: 0.0966\n",
      "Epoch 116/600\n",
      "14/14 [==============================] - 0s 6ms/step - loss: 0.1084 - val_loss: 0.1094\n",
      "Epoch 117/600\n",
      "14/14 [==============================] - 0s 7ms/step - loss: 0.1066 - val_loss: 0.0913\n",
      "Epoch 118/600\n",
      "14/14 [==============================] - 0s 6ms/step - loss: 0.0839 - val_loss: 0.0946\n",
      "Epoch 119/600\n",
      "14/14 [==============================] - 0s 6ms/step - loss: 0.1097 - val_loss: 0.0949\n",
      "Epoch 120/600\n",
      "14/14 [==============================] - 0s 6ms/step - loss: 0.1079 - val_loss: 0.0949\n",
      "Epoch 121/600\n",
      "14/14 [==============================] - 0s 5ms/step - loss: 0.1072 - val_loss: 0.1137\n",
      "Epoch 122/600\n",
      "14/14 [==============================] - 0s 8ms/step - loss: 0.1126 - val_loss: 0.1126\n",
      "Epoch 123/600\n",
      "14/14 [==============================] - 0s 9ms/step - loss: 0.0961 - val_loss: 0.0984\n",
      "Epoch 124/600\n",
      "14/14 [==============================] - 0s 7ms/step - loss: 0.1007 - val_loss: 0.0972\n",
      "Epoch 125/600\n",
      "14/14 [==============================] - 0s 6ms/step - loss: 0.0871 - val_loss: 0.0992\n",
      "Epoch 126/600\n",
      "14/14 [==============================] - 0s 6ms/step - loss: 0.1007 - val_loss: 0.1107\n",
      "Epoch 127/600\n",
      "14/14 [==============================] - 0s 6ms/step - loss: 0.1133 - val_loss: 0.0955\n",
      "Epoch 128/600\n",
      "14/14 [==============================] - 0s 6ms/step - loss: 0.0911 - val_loss: 0.0948\n",
      "Epoch 00128: early stopping\n"
     ]
    },
    {
     "data": {
      "text/plain": [
       "<tensorflow.python.keras.callbacks.History at 0x7f8cedad7650>"
      ]
     },
     "execution_count": 25,
     "metadata": {},
     "output_type": "execute_result"
    }
   ],
   "source": [
    "model.fit(x = X_train, \n",
    "          y = y_train, \n",
    "          epochs = 600,\n",
    "          validation_data = (X_test, y_test), verbose = 1,\n",
    "          callbacks = [early_stop,board]\n",
    "          )"
   ]
  },
  {
   "cell_type": "markdown",
   "metadata": {},
   "source": [
    "**Tensorboard**"
   ]
  },
  {
   "cell_type": "code",
   "execution_count": 26,
   "metadata": {},
   "outputs": [
    {
     "name": "stdout",
     "output_type": "stream",
     "text": [
      "logs\f",
      "it\n"
     ]
    }
   ],
   "source": [
    "print(log_directory)"
   ]
  },
  {
   "cell_type": "code",
   "execution_count": 27,
   "metadata": {},
   "outputs": [
    {
     "data": {
      "text/plain": [
       "'/home/madhu/Downloads/Udemy/Udemy DS & ML/TF/TensorFlow_FILES/ANNs'"
      ]
     },
     "execution_count": 27,
     "metadata": {},
     "output_type": "execute_result"
    }
   ],
   "source": [
    "pwd"
   ]
  },
  {
   "cell_type": "code",
   "execution_count": null,
   "metadata": {},
   "outputs": [],
   "source": []
  }
 ],
 "metadata": {
  "kernelspec": {
   "display_name": "Python 3",
   "language": "python",
   "name": "python3"
  },
  "language_info": {
   "codemirror_mode": {
    "name": "ipython",
    "version": 3
   },
   "file_extension": ".py",
   "mimetype": "text/x-python",
   "name": "python",
   "nbconvert_exporter": "python",
   "pygments_lexer": "ipython3",
   "version": "3.7.6"
  }
 },
 "nbformat": 4,
 "nbformat_minor": 4
}
